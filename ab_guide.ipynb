{
 "cells": [
  {
   "cell_type": "markdown",
   "id": "3c78cc85-0fd1-4dcb-b29b-edf67b33e71b",
   "metadata": {},
   "source": [
    "# CONTENT\n",
    "\n",
    "\n",
    "[GENERAL_SCHEME](#GENERAL_SCHEME)<br>\n",
    "[METRICS](#METRICS)<br>\n",
    "[KEY_METRICS](#KEY_METRICS)<br>\n",
    "[GROUPS_RANDOMIZATION](#GROUPS_RANDOMIZATION)<br>\n",
    "[MDE](#MDE)<br>\n",
    "[GROUP_SIZE](#GROUP_SIZE)<br>\n",
    "[TEST_SELECTION](#TEST_SELECTION)<br>\n",
    "[TESTS_DESCRIPTION](#TESTS_DESCRIPTION)<br>\n",
    "[EXPERIMENT](#EXPERIMENT)<br>\n",
    "[EXPERIMENT_VALIDATION](#EXPERIMENT_VALIDATION)<br>\n",
    "\n",
    "\n",
    "[MDE](#MDE)<br>\n",
    "[MDE](#MDE)<br>\n",
    "[MDE](#MDE)<br>\n",
    "\n",
    "[LINKS](#LINKS)"
   ]
  },
  {
   "cell_type": "markdown",
   "id": "ffc608d9-48ce-4798-a3b6-3bd199a64d5a",
   "metadata": {},
   "source": []
  },
  {
   "cell_type": "markdown",
   "id": "9110a43d-9311-4d29-b4e2-edd7af70bdb2",
   "metadata": {},
   "source": []
  },
  {
   "cell_type": "markdown",
   "id": "7a6cfe75-3cd4-4fcf-8b9d-3bbbbf2f8b3a",
   "metadata": {},
   "source": [
    "# GENERAL_SCHEME\n",
    "\n",
    "\n",
    "[CONTENT](#CONTENT)<br>\n"
   ]
  },
  {
   "cell_type": "markdown",
   "id": "c2831017-0bbe-48d5-a949-6e1a7c13e930",
   "metadata": {},
   "source": [
    "## Основные этапы АБ теста: \n",
    "- выбираем основную и контрольные метрики\n",
    "- формулируем гипотезы\n",
    "- выбираем способ формирования выборки и ее параметры\n",
    "- рассчитываем размер выборки и MDE\n",
    "- проводим АА тест\n",
    "- выбираем тип теста\n",
    "- проведение эксперимента и сбор данных\n",
    "- проверка валидности эксперимента\n",
    "- расчет результатов и принятие решения\n"
   ]
  },
  {
   "cell_type": "markdown",
   "id": "3071d44c-580d-4143-94ed-c525ac6a39ed",
   "metadata": {},
   "source": []
  },
  {
   "cell_type": "markdown",
   "id": "066fced7-7d41-4f53-b44c-c9ab3ccdf193",
   "metadata": {},
   "source": []
  },
  {
   "cell_type": "markdown",
   "id": "ec3ec288-c473-4df0-8076-b4c6b9d0a886",
   "metadata": {},
   "source": [
    "# METRICS\n",
    "\n",
    "[CONTENT](#CONTENT)<br>"
   ]
  },
  {
   "cell_type": "markdown",
   "id": "7234d411-4e2c-44e1-bce8-8fac5c8b0582",
   "metadata": {},
   "source": [
    "## Определяем метрики для тестирования:\n",
    "- основную, в отношении которой проводим АБ тест\n",
    "- контролируемые метрики, которые важны для функционировния и могут быть затронуты изменением прямо или косвенно\n",
    "\n",
    "Основная цель выбора дополнительно контролируемых метрик - отследить возможные косвенные ухудшения функционирования продукта в результате внедрения изменений (например, стат значимо увеличиваем конверсию, но одновременно существенно падают просмотры)."
   ]
  },
  {
   "cell_type": "markdown",
   "id": "e1d3ae45-7bb3-4f49-8aa7-0673ec1e2515",
   "metadata": {},
   "source": [
    "## Преобразование метрик и альтернативные метрики\n",
    "\n",
    "Если на этапе расчета MDE или длительности теста понимаем, что текущая метрика не позволяет провести тест в разумные сроки, размышляем над альтернативными метриками или над преобразованием текущих метрик.\n",
    "\n",
    "### Возможные варианты альтернативных метрик:\n",
    "- увеличить разброс значени таргетной метрики, с одной стороны это увеличит дисперсию. С другой стороны, размер отслеживаемого эффекта (который обратно квадратично влияет на объем необходимой выборки) существенно увеличится, что может повлечь существенное сокращение сроков проведения теста.\n",
    "- вместо общего CTR считаем поюзерный CTR, но тут сталикаемся с проблемой большого количества пользователей с нулевыми целевыми действиям, нужно придавать пользователям вес и генерировать синтетическую метрику.\n",
    "- меняем метрику на конверсионную, у которой дисперсия считается по распределению Бернулли и может быть кратно меньше изначальной."
   ]
  },
  {
   "cell_type": "markdown",
   "id": "3ab3536a-7059-4e3e-83bf-3b6e49cc7d17",
   "metadata": {},
   "source": []
  },
  {
   "cell_type": "markdown",
   "id": "bf6dfa85-68d6-44b3-894a-4aea86ca7a2f",
   "metadata": {},
   "source": []
  },
  {
   "cell_type": "markdown",
   "id": "a1f2702b-6ec3-4fc7-a57e-3b196aedba34",
   "metadata": {},
   "source": []
  },
  {
   "cell_type": "markdown",
   "id": "4b8cd312-afdf-4c75-94a5-643f4aa0dbdc",
   "metadata": {},
   "source": [
    "# KEY_METRICS\n",
    "\n",
    "[CONTENT](#CONTENT)<br>"
   ]
  },
  {
   "cell_type": "markdown",
   "id": "d3b1c724-b2cf-4f46-a1a7-301eff5e3d12",
   "metadata": {},
   "source": [
    "#### ARPU - average revenue per user"
   ]
  },
  {
   "cell_type": "markdown",
   "id": "8faae91a-eae7-4475-90e8-9e7427c9bf87",
   "metadata": {},
   "source": [
    "$$\n",
    "ARPU = \\frac{Выручка}{\\text{Количество пользователей}}\n",
    "$$"
   ]
  },
  {
   "cell_type": "markdown",
   "id": "185fbc3f-873d-49ee-a221-cabef5c1d00c",
   "metadata": {},
   "source": [
    "#### ARPPU - average revenue per paying user"
   ]
  },
  {
   "cell_type": "markdown",
   "id": "a56074a8-326d-4d22-8641-952416163125",
   "metadata": {},
   "source": [
    "$$\n",
    "ARPPU = \\frac{Выручка}{\\text{Количество платящих пользователей}}\n",
    "$$\n",
    "\n",
    "\n",
    "$$\n",
    "ARPU = ARPPU * \\text{Paying Share} = ARPPU * \\text{СК}\n",
    "$$"
   ]
  },
  {
   "cell_type": "markdown",
   "id": "aef18fec-0fb5-4ff3-a999-d14985e44c52",
   "metadata": {},
   "source": [
    "#### AOV - average order value"
   ]
  },
  {
   "cell_type": "markdown",
   "id": "2c870940-c3d4-411e-b5b9-1c7995e358e0",
   "metadata": {},
   "source": [
    "$$\n",
    "AOV = \\frac{Выручка}{\\text{Количество заказов}}\n",
    "$$"
   ]
  },
  {
   "cell_type": "markdown",
   "id": "a2770af8-d15b-4f8a-b7fc-5549d70ce0fc",
   "metadata": {},
   "source": [
    "#### CTR - click through rate\n",
    "Количество целевых действий (кликов) к показам"
   ]
  },
  {
   "cell_type": "markdown",
   "id": "84f8920e-e11a-4c72-803e-53fb0d488c7c",
   "metadata": {},
   "source": []
  },
  {
   "cell_type": "markdown",
   "id": "386f7875-c3c0-46fb-8c18-235908f0a9b9",
   "metadata": {},
   "source": [
    "#### NMV - net merchandise value\n",
    "Отношение количества кликов по рекламным объявлениям к количеству их показов"
   ]
  },
  {
   "cell_type": "markdown",
   "id": "f32d5b90-9042-4177-9cfe-5c18b3eeeeff",
   "metadata": {},
   "source": []
  },
  {
   "cell_type": "markdown",
   "id": "3e8c11a2-35b6-42f1-bc55-f9d3bb538078",
   "metadata": {},
   "source": [
    "#### RR - retention rate (конверсионная метрика)\n",
    "Процент пользователей, вернувшихся в приложение на n-ный день"
   ]
  },
  {
   "cell_type": "markdown",
   "id": "bb2a07c9-d766-40b9-a12c-9d755d9ba3c7",
   "metadata": {},
   "source": []
  },
  {
   "cell_type": "code",
   "execution_count": null,
   "id": "6614f0f2-0125-4b09-83aa-84fd51f93e93",
   "metadata": {},
   "outputs": [],
   "source": []
  },
  {
   "cell_type": "markdown",
   "id": "63ddf859-d5d3-4dc4-a3a2-269c3c523990",
   "metadata": {},
   "source": [
    "#### CR - конверсия (Conversion Rate, CR)"
   ]
  },
  {
   "cell_type": "markdown",
   "id": "00189288-feb1-48f6-bd92-7b7a5bc26ff1",
   "metadata": {},
   "source": [
    "$$\n",
    "CR_{\\text{ X to Y}} = \\frac{K}{N} \\text{* 100\\%} = \\frac{ARPU}{ARPPU}\n",
    "$$\n",
    "K - количество пользователей совершили целевое действие Y (или просто дошли до шага Y)<br>\n",
    "N - количество пользователей совершили целевое действие X (или просто дошли до шага X)<br>\n",
    "\n",
    "\n",
    "<br>При расчёте конверсий нам важен именно факт совершения пользователем действия, а не количество действий\n",
    "<br>Если у нас есть бизнес убеждение, что ARPPU Постоянно, то мы, когда это удобно можем брать метрику CR вместо ARPU (по формуле выше она связана с конверсией через долю платящих пользователей)\n",
    "<br>Часто дисперсия конверсии намного ниже, чем дисперсия самого ARPU, а значит нам нужно меньше данных (см. формулу) и можно провести менее времязатратный эксперимент.\n",
    "<br>Однако, не стоит забывать, что ARPPU все же может измениться под влиянием фичи."
   ]
  },
  {
   "cell_type": "markdown",
   "id": "8a568910-56fc-4880-bff2-00052d3a0055",
   "metadata": {},
   "source": [
    "Дисперсия конверсионых метрик рассчитывает по распределению Бернулли\n",
    "$$\n",
    "Var_\\text{Bernoulli} = \\overline{p}\\text{ * } (1 - \\overline{p})\n",
    "$$"
   ]
  },
  {
   "cell_type": "markdown",
   "id": "4129c535-995f-4111-8875-4fcc285b14ce",
   "metadata": {},
   "source": [
    "Для примера используем z-тест\n",
    "$$\n",
    "z = \\frac{\\overline{p}_\\text{test} - \\overline{p}_\\text{control}}{\\sqrt{\\frac{Var_\\text{test}}{n_\\text{test}}+\\frac{Var_\\text{control}}{n_\\text{control}}}}\n",
    "$$"
   ]
  },
  {
   "cell_type": "markdown",
   "id": "b6ddd6d4-9f62-4b7e-844d-6b14f1a5652c",
   "metadata": {},
   "source": []
  },
  {
   "cell_type": "markdown",
   "id": "87475f66-d7d9-42b6-ba61-196663b9f3c0",
   "metadata": {},
   "source": []
  },
  {
   "cell_type": "markdown",
   "id": "af76c649-9d44-48e8-a4d0-87f2b8a76830",
   "metadata": {},
   "source": []
  },
  {
   "cell_type": "markdown",
   "id": "f39a28de-c64a-4e77-b744-2d05b03b6e91",
   "metadata": {},
   "source": [
    "# GROUPS_RANDOMIZATION\n",
    "\n",
    "[CONTENT](#CONTENT)<br>"
   ]
  },
  {
   "cell_type": "markdown",
   "id": "d3e9e22e-16ff-4675-9f65-523d1486d840",
   "metadata": {},
   "source": [
    "## Разделение на группы"
   ]
  },
  {
   "cell_type": "markdown",
   "id": "9b22089a-2f89-4280-ae85-91c9c8c18687",
   "metadata": {},
   "source": [
    "<b> ⚠️ ВАЖНО\n",
    "\n",
    "При планировании эксперимента нужно задуматься о потенциальном сетевом эффекте, то есть о ситуации, когда измененное поведение из treatment group может повлиять на поведение  control group"
   ]
  },
  {
   "cell_type": "markdown",
   "id": "78a6d42a-0d5c-4f02-a5c4-7a69c18e63f7",
   "metadata": {},
   "source": [
    "Вариант 1<br>\n",
    "В самом простом случае (один эксперимент в единицу времени или достаточное количество данных для проведения нескольких экспериментов без пересечения пользователей) - выделяем простым случайным образом две одинаковые по размеру группы treatment и control "
   ]
  },
  {
   "cell_type": "markdown",
   "id": "34ae98a4-84bd-4608-b037-b9e1da5b2ae1",
   "metadata": {},
   "source": []
  },
  {
   "cell_type": "markdown",
   "id": "55863200-0ab2-4f0d-83ed-019615307489",
   "metadata": {
    "jp-MarkdownHeadingCollapsed": true
   },
   "source": [
    "## Предотвращение сетевого эффекта"
   ]
  },
  {
   "cell_type": "markdown",
   "id": "dfc8de24-c374-4da4-a6b7-12a946d0913e",
   "metadata": {},
   "source": [
    "###  в соц сетях и схожих продуктах (апример, маркетплейсах) можно разделить пользователей на непересекающиеся кластеры. \n",
    "Возможные способы разделения на кластеры\n",
    "- соц графы (группы с минимальным количество связей),\n",
    "- покупатели предпочитающие разные категори покупок\n",
    "- ML алгоритмы (unsupervised learning)\n",
    "\n",
    "### при широкой географии можно разделить по географическому признаку\n",
    "- здесь важно отследить, чтобы группы были однородны по своей структуре, показателям метрик и поведению, иначе нарушится принцип репрезентативности групп\n",
    "\n",
    "### switchback-тестирование\n",
    "- делим пользователей по географии, но раскатываем фичу на опредленный период времени, далее раскатываем на другую и т.п. Возможность применения сильно зависит от типа отслеживаемых изменений, т.к. некоторые изменения могут иметь долговременный эффект на самого пользователя и его связи."
   ]
  },
  {
   "cell_type": "markdown",
   "id": "91e29197-1c63-4ce5-a09c-e71f1c23dbba",
   "metadata": {},
   "source": []
  },
  {
   "cell_type": "markdown",
   "id": "c0b09feb-fadc-4451-a4d3-36f158dad977",
   "metadata": {},
   "source": [
    "## Проверка разделения на группы"
   ]
  },
  {
   "cell_type": "markdown",
   "id": "b0d4583f-804f-494d-9ff6-802b3bb7fccc",
   "metadata": {},
   "source": [
    "По итогам разбиения обязательно проводим проверку групп по основной метрике и контролируемым метрикам на предмет наличия стат значимых различий.\n",
    "\n",
    "А именно, проводим стат тест(аналогичный тому, который будет использоваться в АБ тесте) и проверяем что количество ложных прокрашиваний (FPR - ошибок первого рода) не превышает α <br><br><br>\n",
    "\n",
    "\n",
    "<b>При наличии достаточного количества предшествующих периодов, выбираем три равных периода:\n",
    "\n",
    "- период теста (1)\n",
    "- равный ему период непосредственно предшествующий тесту (2)\n",
    "- еще один аналогичный период в прошлое (3)\n",
    "\n",
    "Порядок действий в таком случае:\n",
    "- в периоде 3 выделяем группы,\n",
    "- в периоде 2 проверяем что тест не прокрашивается и данные \"не расходятся\"\n",
    "- период 1 проводим тест\n",
    "\n"
   ]
  },
  {
   "cell_type": "markdown",
   "id": "c2f487ce-b6e3-4831-8baa-6b1f084de769",
   "metadata": {},
   "source": []
  },
  {
   "cell_type": "markdown",
   "id": "13adb913-d23f-4245-813e-881185146861",
   "metadata": {},
   "source": []
  },
  {
   "cell_type": "markdown",
   "id": "1bcdcb4f-bdf5-4e90-b077-6ab2edfeced6",
   "metadata": {},
   "source": [
    "# MDE\n",
    "\n",
    "[CONTENT](#CONTENT)<br>"
   ]
  },
  {
   "cell_type": "markdown",
   "id": "48de6b30-9f87-4afd-ab90-fc4b551d7678",
   "metadata": {},
   "source": []
  },
  {
   "cell_type": "markdown",
   "id": "aaea9a34-61d9-4032-b40a-903eea175307",
   "metadata": {},
   "source": []
  },
  {
   "cell_type": "markdown",
   "id": "672d744c-868c-4eea-8484-cf63e83c834e",
   "metadata": {},
   "source": []
  },
  {
   "cell_type": "markdown",
   "id": "790882f0-86aa-45b4-ab78-5b2222f8664b",
   "metadata": {},
   "source": [
    "# GROUP_SIZE\n",
    "\n",
    "[CONTENT](#CONTENT)<br>"
   ]
  },
  {
   "cell_type": "markdown",
   "id": "83d2c38d-1972-436a-a3c5-85027afce71c",
   "metadata": {},
   "source": [
    "### Два основных варианта\n",
    "- рассчет по формуле (см. ниже)\n",
    "- монтекарлим реальные данные симулируя необходимый MDE на treatment и отслеживаем на каком объеме выборки получим прокрашивания соответствующие необходимой стат значимости."
   ]
  },
  {
   "cell_type": "markdown",
   "id": "25a92a84-fe4d-4879-a985-21f859318034",
   "metadata": {},
   "source": [
    "#### Теоретическая формула расчета размера выборки n\n",
    "$$\n",
    "n = \\frac{\n",
    "(Var_{control} + Var_{test}) * (z_{a/2} + z_{b})^2}\n",
    "{MDE^2} \n",
    "= \\frac{\n",
    "(Std_{control}^2 + Std_{test}^2) * (z_{a/2} + z_{b})^2}\n",
    "{MDE^2} \n",
    "$$\n",
    "где, \n",
    "$$\n",
    "z_{a/2}  \\text{   - квантиль стандартного нормального распределения, соответствующий половине ошибки первого рода}\n",
    "$$ \n",
    "$$\n",
    "z_{b} \\text{ - квантиль стандартного нормального распределения, соответствующий вероятности ошибки второго рода}\n",
    "$$ "
   ]
  },
  {
   "cell_type": "markdown",
   "id": "43758635-9135-4563-bee4-dd33f334305b",
   "metadata": {},
   "source": [
    "#### Пример расчета n методом Монте-Карло"
   ]
  },
  {
   "cell_type": "markdown",
   "id": "c986932e-687b-45bd-9674-5074a041d4e1",
   "metadata": {},
   "source": []
  },
  {
   "cell_type": "code",
   "execution_count": null,
   "id": "4b68d77b-c698-47cc-8f53-e6e90246eb87",
   "metadata": {},
   "outputs": [],
   "source": []
  },
  {
   "cell_type": "markdown",
   "id": "961d4551-fd1e-494a-8f26-adcdc2092066",
   "metadata": {},
   "source": [
    "# TEST_SELECTION\n",
    "\n",
    "[CONTENT](#CONTENT)<br>"
   ]
  },
  {
   "cell_type": "markdown",
   "id": "f716695a-247b-4762-a88b-3f3d74b5f16a",
   "metadata": {},
   "source": [
    "## Количественная метрика ARPU, ARPPU, etc\n",
    "Используем Т-тест, бакетный тест. \n",
    "<br><br>Т-тест там где распредление близко к нормальному\n",
    "<br>Бакетный используем там, где сильно ассиметричное распредление\n"
   ]
  },
  {
   "cell_type": "markdown",
   "id": "d4afc326-cf62-4933-9c3e-7af652fea875",
   "metadata": {},
   "source": [
    "## Конверсионная метрика CR"
   ]
  },
  {
   "cell_type": "markdown",
   "id": "c92adf34-e0e9-47a6-a159-efe5b1f9c6dd",
   "metadata": {},
   "source": [
    "z-тест для пропорций"
   ]
  },
  {
   "cell_type": "markdown",
   "id": "4035dd15-cac5-4c08-be5b-b5dbcf2b5b03",
   "metadata": {},
   "source": [
    "## Метрика отношений - AOV, кол-во товаров в корзине или их цена\n",
    "Метрика отношений - метрика где единица анализа (в отношении чего направле тест) отличается от единицы рандомизации (критерий, по которому мы бьем на группы , например - пользователи)<br>\n",
    "В таких метриках обычно не соблюдается принцип независимости наблюдений, следовательно анализировать разницу ошибки средних некорректно."
   ]
  },
  {
   "cell_type": "markdown",
   "id": "f283853e-563c-47b0-bd88-86b73681977e",
   "metadata": {},
   "source": [
    "Бутсреп, линеаризация, дельта-метод"
   ]
  },
  {
   "cell_type": "markdown",
   "id": "258024f7-f904-44c4-8535-3111b7ab63f0",
   "metadata": {},
   "source": [
    "# TESTS_DESCRIPTION\n",
    "\n",
    "[CONTENT](#CONTENT)<br>"
   ]
  },
  {
   "cell_type": "markdown",
   "id": "fc499957-bb0c-4a3c-af1a-37e9b02432a8",
   "metadata": {},
   "source": []
  },
  {
   "cell_type": "markdown",
   "id": "6b5fcadd-9743-4414-9d0a-ed7671af3bab",
   "metadata": {},
   "source": []
  },
  {
   "cell_type": "markdown",
   "id": "4b3f8a9e-9475-4b71-8fc1-91f619f55cc1",
   "metadata": {},
   "source": []
  },
  {
   "cell_type": "markdown",
   "id": "3bbaed0f-73ca-4681-98a5-aa5f94f484c3",
   "metadata": {},
   "source": []
  },
  {
   "cell_type": "markdown",
   "id": "a7834a02-05ef-4270-9ec0-576e16968464",
   "metadata": {},
   "source": []
  },
  {
   "cell_type": "markdown",
   "id": "073d5142-ffc3-499e-ae4a-314df7f0e816",
   "metadata": {},
   "source": []
  },
  {
   "cell_type": "markdown",
   "id": "15f080c7-0e1e-4dd2-a975-95005051b296",
   "metadata": {},
   "source": [
    "# EXPERIMENT\n",
    "\n",
    "[CONTENT](#CONTENT)<br>"
   ]
  },
  {
   "cell_type": "markdown",
   "id": "f1a033a3-8050-4a93-937c-efb280937933",
   "metadata": {},
   "source": [
    "#### Основные приницпы проведения эксперимента:\n",
    "- подглядывать можно, но досрочно прерывать только в случае форс-мажора, то есть критически неприемлемое падение основной или контролируемых метрик\n",
    "- в результате подглядывания могут, в том числе, выявиться проблемы со сбором, обработкой или записью данных\n",
    "- при получении позитивных данных прерывать нельзя категорически. Возникает повышенный риск получения ошибки первого рода, то есть обнаружение стат. значимого эффекта там, где его нет (смещаем границу ошибки первого рода необоснованно к центру распределения при параметрических тестах)."
   ]
  },
  {
   "cell_type": "markdown",
   "id": "d3d69b10-efc4-4876-9f32-c85970ac8016",
   "metadata": {},
   "source": []
  },
  {
   "cell_type": "markdown",
   "id": "aec4328f-b84c-468e-98b6-bbd8b39edbff",
   "metadata": {},
   "source": []
  },
  {
   "cell_type": "code",
   "execution_count": 2,
   "id": "edededfc-3f8a-43fc-961a-a885fc7fa100",
   "metadata": {},
   "outputs": [
    {
     "data": {
      "text/plain": [
       "0.05"
      ]
     },
     "execution_count": 2,
     "metadata": {},
     "output_type": "execute_result"
    }
   ],
   "source": [
    "2500/50000"
   ]
  },
  {
   "cell_type": "markdown",
   "id": "b0f7d6ff-edb8-46fe-bb6f-11d1679cbb0e",
   "metadata": {},
   "source": [
    "# EXPERIMENT_VALIDATION"
   ]
  },
  {
   "cell_type": "markdown",
   "id": "41f43b6e-3cac-4a61-8b8c-498130f8c687",
   "metadata": {},
   "source": [
    "На что обратить внимание:\n",
    "- проверяем, что пропорция между treatment и control сохранилась, как мы планировали на стадии разработки дизайна экмперимента (особенно актуально для конверсионных метрик, где часть пользователей могла просто не дойти до нужного этапа) \n",
    "- еще раз проводим АА-тест на пользователях/юнитах, которые реально попали в эксперимент. Метрики по предыдущему периоду не должны расходиться. "
   ]
  },
  {
   "cell_type": "markdown",
   "id": "f7eec104-8e2a-4f43-b630-ff5e6fdbb685",
   "metadata": {},
   "source": []
  },
  {
   "cell_type": "markdown",
   "id": "29d29e3c-1091-49f8-9bf7-27147a05cbcd",
   "metadata": {},
   "source": []
  },
  {
   "cell_type": "markdown",
   "id": "60515709-5920-4dee-a766-c0ae0acc32ed",
   "metadata": {},
   "source": []
  },
  {
   "cell_type": "markdown",
   "id": "dd20300b-4ae0-4e86-b251-5e6bdb1529c6",
   "metadata": {},
   "source": []
  },
  {
   "cell_type": "markdown",
   "id": "34e72265-9878-4200-bb71-63acd9d90cb0",
   "metadata": {},
   "source": []
  },
  {
   "cell_type": "markdown",
   "id": "8dd08aab-c316-40ed-9b0e-2ae601c712a7",
   "metadata": {},
   "source": []
  },
  {
   "cell_type": "markdown",
   "id": "62f9f120-2a0f-4519-b90c-f934c870cd4b",
   "metadata": {},
   "source": [
    "# LINKS\n",
    "\n",
    "[CONTENT](#CONTENT)<br>"
   ]
  },
  {
   "cell_type": "markdown",
   "id": "ccbacdc4-3313-46f0-a8ea-a71dce5e712d",
   "metadata": {},
   "source": []
  }
 ],
 "metadata": {
  "kernelspec": {
   "display_name": "Python 3.11 (py_311)",
   "language": "python",
   "name": "py_311"
  },
  "language_info": {
   "codemirror_mode": {
    "name": "ipython",
    "version": 3
   },
   "file_extension": ".py",
   "mimetype": "text/x-python",
   "name": "python",
   "nbconvert_exporter": "python",
   "pygments_lexer": "ipython3",
   "version": "3.11.0"
  }
 },
 "nbformat": 4,
 "nbformat_minor": 5
}

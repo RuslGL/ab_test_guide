{
 "cells": [
  {
   "cell_type": "markdown",
   "id": "3c78cc85-0fd1-4dcb-b29b-edf67b33e71b",
   "metadata": {},
   "source": [
    "# CONTENT\n",
    "\n",
    "\n",
    "[GENERAL_SCHEME](#GENERAL_SCHEME)<br>\n",
    "[METRICS](#METRICS)<br>\n",
    "[KEY_METRICS](#KEY_METRICS)<br>\n",
    "[GROUPS_RANDOMIZATION](#GROUPS_RANDOMIZATION)<br>\n",
    "[MDE](#MDE)<br>\n",
    "[GROUP_SIZE](#GROUP_SIZE)<br>\n",
    "[TEST_SELECTION](#TEST_SELECTION)<br>\n",
    "[EXPERIMENT](#EXPERIMENT)<br>\n",
    "[EXPERIMENT_VALIDATION](#EXPERIMENT_VALIDATION)<br>\n",
    "\n",
    "\n",
    "[MDE](#MDE)<br>\n",
    "[MDE](#MDE)<br>\n",
    "[MDE](#MDE)<br>\n",
    "\n",
    "[LINKS](#LINKS)"
   ]
  },
  {
   "cell_type": "markdown",
   "id": "ffc608d9-48ce-4798-a3b6-3bd199a64d5a",
   "metadata": {},
   "source": []
  },
  {
   "cell_type": "markdown",
   "id": "9110a43d-9311-4d29-b4e2-edd7af70bdb2",
   "metadata": {},
   "source": []
  },
  {
   "cell_type": "markdown",
   "id": "7a6cfe75-3cd4-4fcf-8b9d-3bbbbf2f8b3a",
   "metadata": {},
   "source": [
    "# GENERAL_SCHEME\n",
    "\n",
    "\n",
    "[CONTENT](#CONTENT)<br>\n"
   ]
  },
  {
   "cell_type": "markdown",
   "id": "c2831017-0bbe-48d5-a949-6e1a7c13e930",
   "metadata": {},
   "source": [
    "## Основные этапы АБ теста: \n",
    "- выбираем основную и контрольные метрики\n",
    "- формулируем гипотезы\n",
    "- выбираем способ формирования выборки и ее параметры\n",
    "- рассчитываем размер выборки и MDE\n",
    "- проводим АА тест\n",
    "- выбираем тип теста\n",
    "- проведение эксперимента и сбор данных\n",
    "- проверка валидности эксперимента\n",
    "- расчет результатов и принятие решения\n"
   ]
  },
  {
   "cell_type": "markdown",
   "id": "3071d44c-580d-4143-94ed-c525ac6a39ed",
   "metadata": {},
   "source": []
  },
  {
   "cell_type": "markdown",
   "id": "066fced7-7d41-4f53-b44c-c9ab3ccdf193",
   "metadata": {},
   "source": []
  },
  {
   "cell_type": "markdown",
   "id": "ec3ec288-c473-4df0-8076-b4c6b9d0a886",
   "metadata": {},
   "source": [
    "# METRICS\n",
    "\n",
    "[CONTENT](#CONTENT)<br>"
   ]
  },
  {
   "cell_type": "markdown",
   "id": "7234d411-4e2c-44e1-bce8-8fac5c8b0582",
   "metadata": {},
   "source": [
    "## Определяем метрики для тестирования:\n",
    "- основную, в отношении которой проводим АБ тест\n",
    "- контролируемые метрики, которые важны для функционировния и могут быть затронуты изменением прямо или косвенно\n",
    "\n",
    "Основная цель выбора дополнительно контролируемых метрик - отследить возможные косвенные ухудшения функционирования продукта в результате внедрения изменений (например, стат значимо увеличиваем конверсию, но одновременно существенно падают просмотры)."
   ]
  },
  {
   "cell_type": "markdown",
   "id": "e1d3ae45-7bb3-4f49-8aa7-0673ec1e2515",
   "metadata": {},
   "source": [
    "## Преобразование метрик и альтернативные метрики\n",
    "\n",
    "Если на этапе расчета MDE или длительности теста понимаем, что текущая метрика не позволяет провести тест в разумные сроки, размышляем над альтернативными метриками или нат преобразованием текущих метрик.\n",
    "\n",
    "### Возможные варианты альтернативных метрик:\n",
    "- увеличить разброс значени таргетной метрики, с одной стороны это увеличит дисперсию. С другой стороны, размер отслеживаемого эффекта (который обратно квадратично влияет на объем необходимой выборки) существенно увеличится, что может повлечь существенное сокращение сроков проведения теста.\n",
    "- вместо общего CTR считаем поюзерный CTR, но тут сталикаемся с проблемой большого количества пользователей с нулевыми целевыми действиям, нужно придавать пользователям вес и генерировать синтетическую метрику."
   ]
  },
  {
   "cell_type": "markdown",
   "id": "3ab3536a-7059-4e3e-83bf-3b6e49cc7d17",
   "metadata": {},
   "source": []
  },
  {
   "cell_type": "markdown",
   "id": "bf6dfa85-68d6-44b3-894a-4aea86ca7a2f",
   "metadata": {},
   "source": []
  },
  {
   "cell_type": "markdown",
   "id": "a1f2702b-6ec3-4fc7-a57e-3b196aedba34",
   "metadata": {},
   "source": []
  },
  {
   "cell_type": "markdown",
   "id": "4b8cd312-afdf-4c75-94a5-643f4aa0dbdc",
   "metadata": {},
   "source": [
    "# KEY_METRICS\n",
    "\n",
    "[CONTENT](#CONTENT)<br>"
   ]
  },
  {
   "cell_type": "markdown",
   "id": "d3b1c724-b2cf-4f46-a1a7-301eff5e3d12",
   "metadata": {},
   "source": [
    "#### ARPU"
   ]
  },
  {
   "cell_type": "markdown",
   "id": "8faae91a-eae7-4475-90e8-9e7427c9bf87",
   "metadata": {},
   "source": []
  },
  {
   "cell_type": "markdown",
   "id": "185fbc3f-873d-49ee-a221-cabef5c1d00c",
   "metadata": {},
   "source": [
    "#### ARPPU"
   ]
  },
  {
   "cell_type": "markdown",
   "id": "a56074a8-326d-4d22-8641-952416163125",
   "metadata": {},
   "source": []
  },
  {
   "cell_type": "markdown",
   "id": "aef18fec-0fb5-4ff3-a999-d14985e44c52",
   "metadata": {},
   "source": [
    "#### AOV"
   ]
  },
  {
   "cell_type": "markdown",
   "id": "2c870940-c3d4-411e-b5b9-1c7995e358e0",
   "metadata": {},
   "source": []
  },
  {
   "cell_type": "markdown",
   "id": "a2770af8-d15b-4f8a-b7fc-5549d70ce0fc",
   "metadata": {},
   "source": [
    "#### CTR"
   ]
  },
  {
   "cell_type": "markdown",
   "id": "84f8920e-e11a-4c72-803e-53fb0d488c7c",
   "metadata": {},
   "source": []
  },
  {
   "cell_type": "markdown",
   "id": "386f7875-c3c0-46fb-8c18-235908f0a9b9",
   "metadata": {},
   "source": []
  },
  {
   "cell_type": "markdown",
   "id": "f39a28de-c64a-4e77-b744-2d05b03b6e91",
   "metadata": {},
   "source": [
    "# GROUPS_RANDOMIZATION\n",
    "\n",
    "[CONTENT](#CONTENT)<br>"
   ]
  },
  {
   "cell_type": "markdown",
   "id": "d3e9e22e-16ff-4675-9f65-523d1486d840",
   "metadata": {},
   "source": [
    "## Разделение на группы"
   ]
  },
  {
   "cell_type": "markdown",
   "id": "9b22089a-2f89-4280-ae85-91c9c8c18687",
   "metadata": {},
   "source": [
    "<b> ⚠️ ВАЖНО\n",
    "\n",
    "При планировании эксперимента нужно задуматься о потенциальном сетевом эффекте, то есть о ситуации, когда измененное поведение из treatment group может повлиять на поведение  control group"
   ]
  },
  {
   "cell_type": "markdown",
   "id": "78a6d42a-0d5c-4f02-a5c4-7a69c18e63f7",
   "metadata": {},
   "source": [
    "Вариант 1<br>\n",
    "В самом простом случае (один эксперимент в единицу времени или достаточное количество данных для проведения нескольких экспериментов без пересечения пользователей) - выделяем простым случайным образом две одинаковые по размеру группы treatment и control "
   ]
  },
  {
   "cell_type": "markdown",
   "id": "34ae98a4-84bd-4608-b037-b9e1da5b2ae1",
   "metadata": {},
   "source": []
  },
  {
   "cell_type": "markdown",
   "id": "55863200-0ab2-4f0d-83ed-019615307489",
   "metadata": {
    "jp-MarkdownHeadingCollapsed": true
   },
   "source": [
    "## Предотвращение сетевого эффекта"
   ]
  },
  {
   "cell_type": "markdown",
   "id": "dfc8de24-c374-4da4-a6b7-12a946d0913e",
   "metadata": {},
   "source": [
    "###  в соц сетях и схожих продуктах (апример, маркетплейсах) можно разделить пользователей на непересевающиеся кластеры. \n",
    "Возможные способы разделения на кластеры\n",
    "- соц графы (группы с минимальным количество связей),\n",
    "- покупатели предпочитающие категори покупок\n",
    "- ML алгоритмы (unsupervised learning)\n",
    "\n",
    "### при широкой географии можно разделить по географическому признаку\n",
    "- здесь важно отследить, чтобы группы были однродны по своей структуре, показателям метрик и поведению, иначе нарушится принцип репрезентативности групп\n",
    "\n",
    "### switchback-тестирование\n",
    "- делим пользователей по географии, но раскатываем фичу на опредленный период времени, далее раскатываем на другую и т.п. Возможность применения сильно зависит от типа отслеживаемых изменений, т.к. некоторые изменения могут иметь долговременный эффект на самого пользователя и его связи."
   ]
  },
  {
   "cell_type": "markdown",
   "id": "91e29197-1c63-4ce5-a09c-e71f1c23dbba",
   "metadata": {},
   "source": []
  },
  {
   "cell_type": "markdown",
   "id": "c0b09feb-fadc-4451-a4d3-36f158dad977",
   "metadata": {},
   "source": [
    "## Проверка разделения на группы"
   ]
  },
  {
   "cell_type": "markdown",
   "id": "b0d4583f-804f-494d-9ff6-802b3bb7fccc",
   "metadata": {},
   "source": [
    "По итогам разбиения обязательно проводим проверку групп по основной метрике и контролируемым метрикам на предмет наличия стат значимых различий.\n",
    "\n",
    "А именно, проводим стат тест(аналогичный тому, который будет использоваться в АБ тесте) и проверяем что количество лоджных прокрашиваний (FPR - ошибок первого рода) не превышает α <br><br><br>\n",
    "\n",
    "\n",
    "<b>При наличии достаточного количества предшествующих периодов, выбираем три равных периода:\n",
    "\n",
    "- период теста (1)\n",
    "- равный ему период непосредственно предшествующий тесту (2)\n",
    "- еще один аналогичный период в прошлое (3)\n",
    "\n",
    "Порядок действий в таком случае:\n",
    "- в периоде 3 выделяем группы,\n",
    "- в периоде 2 проверяем что тест не прокрашивается и данные \"не расходятся\"\n",
    "- период 1 проводим тест\n",
    "\n"
   ]
  },
  {
   "cell_type": "markdown",
   "id": "c2f487ce-b6e3-4831-8baa-6b1f084de769",
   "metadata": {},
   "source": []
  },
  {
   "cell_type": "markdown",
   "id": "13adb913-d23f-4245-813e-881185146861",
   "metadata": {},
   "source": []
  },
  {
   "cell_type": "markdown",
   "id": "1bcdcb4f-bdf5-4e90-b077-6ab2edfeced6",
   "metadata": {},
   "source": [
    "# MDE\n",
    "\n",
    "[CONTENT](#CONTENT)<br>"
   ]
  },
  {
   "cell_type": "markdown",
   "id": "48de6b30-9f87-4afd-ab90-fc4b551d7678",
   "metadata": {},
   "source": []
  },
  {
   "cell_type": "markdown",
   "id": "aaea9a34-61d9-4032-b40a-903eea175307",
   "metadata": {},
   "source": []
  },
  {
   "cell_type": "markdown",
   "id": "672d744c-868c-4eea-8484-cf63e83c834e",
   "metadata": {},
   "source": []
  },
  {
   "cell_type": "markdown",
   "id": "790882f0-86aa-45b4-ab78-5b2222f8664b",
   "metadata": {},
   "source": [
    "# GROUP_SIZE\n",
    "\n",
    "[CONTENT](#CONTENT)<br>"
   ]
  },
  {
   "cell_type": "markdown",
   "id": "83d2c38d-1972-436a-a3c5-85027afce71c",
   "metadata": {},
   "source": [
    "### Два основных варианта\n",
    "- рассчет по формуле (см. ниже)\n",
    "- монтекарлим реальные данные симулируя необходимый MDE на treatment и отслеживаем на каком объеме выборки получим прокрашивания соответствующие необходимой стат значимости."
   ]
  },
  {
   "cell_type": "markdown",
   "id": "25a92a84-fe4d-4879-a985-21f859318034",
   "metadata": {},
   "source": [
    "#### Теоретическая формула расчета размера выборки n\n",
    "$$\n",
    "n = \\frac{\n",
    "(Var_{control} + Var_{test}) * (z_{a/2} + z_{b})^2}\n",
    "{MDE^2} \n",
    "= \\frac{\n",
    "(Std_{control}^2 + Std_{test}^2) * (z_{a/2} + z_{b})^2}\n",
    "{MDE^2} \n",
    "$$\n",
    "где, \n",
    "$$\n",
    "z_{a/2}  \\text{   - квантиль стандартного нормального распределения, соответствующий половине ошибки первого рода}\n",
    "$$ \n",
    "$$\n",
    "z_{b} \\text{ - квантиль стандартного нормального распределения, соответствующий вероятности ошибки второго рода}\n",
    "$$ "
   ]
  },
  {
   "cell_type": "markdown",
   "id": "43758635-9135-4563-bee4-dd33f334305b",
   "metadata": {},
   "source": [
    "#### Пример расчета n методом Монте-Карло"
   ]
  },
  {
   "cell_type": "markdown",
   "id": "c986932e-687b-45bd-9674-5074a041d4e1",
   "metadata": {},
   "source": []
  },
  {
   "cell_type": "code",
   "execution_count": null,
   "id": "4b68d77b-c698-47cc-8f53-e6e90246eb87",
   "metadata": {},
   "outputs": [],
   "source": []
  },
  {
   "cell_type": "markdown",
   "id": "961d4551-fd1e-494a-8f26-adcdc2092066",
   "metadata": {},
   "source": [
    "# TEST_SELECTION\n",
    "\n",
    "[CONTENT](#CONTENT)<br>"
   ]
  },
  {
   "cell_type": "markdown",
   "id": "f716695a-247b-4762-a88b-3f3d74b5f16a",
   "metadata": {},
   "source": []
  },
  {
   "cell_type": "markdown",
   "id": "d4afc326-cf62-4933-9c3e-7af652fea875",
   "metadata": {},
   "source": []
  },
  {
   "cell_type": "markdown",
   "id": "c92adf34-e0e9-47a6-a159-efe5b1f9c6dd",
   "metadata": {},
   "source": []
  },
  {
   "cell_type": "markdown",
   "id": "4035dd15-cac5-4c08-be5b-b5dbcf2b5b03",
   "metadata": {},
   "source": []
  },
  {
   "cell_type": "markdown",
   "id": "15f080c7-0e1e-4dd2-a975-95005051b296",
   "metadata": {},
   "source": [
    "# EXPERIMENT\n",
    "\n",
    "[CONTENT](#CONTENT)<br>"
   ]
  },
  {
   "cell_type": "markdown",
   "id": "f1a033a3-8050-4a93-937c-efb280937933",
   "metadata": {},
   "source": [
    "#### Основные приницпы провеления эксперимента:\n",
    "- подглядывать можно, но досрочно прерывать только в случае форс-мажора, то есть критически неприемлемое падение основной или контролируемых метрик\n",
    "- в результате подглядывания могут, в том числе, выявиться проблемы со сбором, обработкой или записью данных\n",
    "- при получении позитивных данных прерывать нельзя категорически. Возникает повышенный риск получения ошибки первошго рода, то есть обнаружение стат. значимого эффекта там, где его нет (смещаем границу ошибки первого рода необоснованно к центру распределения при параметрических тестах)."
   ]
  },
  {
   "cell_type": "markdown",
   "id": "d3d69b10-efc4-4876-9f32-c85970ac8016",
   "metadata": {},
   "source": []
  },
  {
   "cell_type": "markdown",
   "id": "aec4328f-b84c-468e-98b6-bbd8b39edbff",
   "metadata": {},
   "source": []
  },
  {
   "cell_type": "markdown",
   "id": "0cc7eb57-82d8-49c1-b20e-520e9d11dcb5",
   "metadata": {},
   "source": []
  },
  {
   "cell_type": "markdown",
   "id": "b0f7d6ff-edb8-46fe-bb6f-11d1679cbb0e",
   "metadata": {},
   "source": [
    "# EXPERIMENT_VALIDATION"
   ]
  },
  {
   "cell_type": "markdown",
   "id": "41f43b6e-3cac-4a61-8b8c-498130f8c687",
   "metadata": {},
   "source": [
    "На что обратить внимание:\n",
    "- проверяем, что пропорция между treatment и control сохранилась, как мы планировали на стадии разработки дизайна экмперимента (особенно актуально для конверсионных метрик, где часть пользователей могла просто не дойти до нужного этапа) \n",
    "- еще раз проводим АА-тест на пользователях/юнитах, которые реально попали в эксперимент. Метрики по предыдущему периоду не должны расходиться. "
   ]
  },
  {
   "cell_type": "markdown",
   "id": "f7eec104-8e2a-4f43-b630-ff5e6fdbb685",
   "metadata": {},
   "source": []
  },
  {
   "cell_type": "markdown",
   "id": "29d29e3c-1091-49f8-9bf7-27147a05cbcd",
   "metadata": {},
   "source": []
  },
  {
   "cell_type": "markdown",
   "id": "60515709-5920-4dee-a766-c0ae0acc32ed",
   "metadata": {},
   "source": []
  },
  {
   "cell_type": "markdown",
   "id": "dd20300b-4ae0-4e86-b251-5e6bdb1529c6",
   "metadata": {},
   "source": []
  },
  {
   "cell_type": "markdown",
   "id": "34e72265-9878-4200-bb71-63acd9d90cb0",
   "metadata": {},
   "source": []
  },
  {
   "cell_type": "markdown",
   "id": "8dd08aab-c316-40ed-9b0e-2ae601c712a7",
   "metadata": {},
   "source": []
  },
  {
   "cell_type": "markdown",
   "id": "62f9f120-2a0f-4519-b90c-f934c870cd4b",
   "metadata": {},
   "source": [
    "# LINKS\n",
    "\n",
    "[CONTENT](#CONTENT)<br>"
   ]
  },
  {
   "cell_type": "markdown",
   "id": "ccbacdc4-3313-46f0-a8ea-a71dce5e712d",
   "metadata": {},
   "source": []
  }
 ],
 "metadata": {
  "kernelspec": {
   "display_name": "Python 3.11 (py_311)",
   "language": "python",
   "name": "py_311"
  },
  "language_info": {
   "codemirror_mode": {
    "name": "ipython",
    "version": 3
   },
   "file_extension": ".py",
   "mimetype": "text/x-python",
   "name": "python",
   "nbconvert_exporter": "python",
   "pygments_lexer": "ipython3",
   "version": "3.11.0"
  }
 },
 "nbformat": 4,
 "nbformat_minor": 5
}
